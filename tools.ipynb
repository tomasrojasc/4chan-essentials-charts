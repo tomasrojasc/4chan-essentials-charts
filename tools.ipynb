{
 "cells": [
  {
   "cell_type": "code",
   "execution_count": 1,
   "metadata": {
    "ExecuteTime": {
     "end_time": "2019-08-19T23:45:00.704377Z",
     "start_time": "2019-08-19T23:44:59.872051Z"
    }
   },
   "outputs": [
    {
     "name": "stderr",
     "output_type": "stream",
     "text": [
      "/Library/Frameworks/Python.framework/Versions/3.6/lib/python3.6/importlib/_bootstrap.py:219: RuntimeWarning: numpy.dtype size changed, may indicate binary incompatibility. Expected 96, got 88\n",
      "  return f(*args, **kwds)\n",
      "/Library/Frameworks/Python.framework/Versions/3.6/lib/python3.6/importlib/_bootstrap.py:219: RuntimeWarning: numpy.dtype size changed, may indicate binary incompatibility. Expected 96, got 88\n",
      "  return f(*args, **kwds)\n"
     ]
    }
   ],
   "source": [
    "import pandas as pd\n",
    "import numpy as np"
   ]
  },
  {
   "cell_type": "code",
   "execution_count": 2,
   "metadata": {
    "ExecuteTime": {
     "end_time": "2019-08-19T23:45:00.794616Z",
     "start_time": "2019-08-19T23:45:00.712456Z"
    }
   },
   "outputs": [],
   "source": [
    "class DataBase():\n",
    "    import pandas as pd\n",
    "    import numpy as np\n",
    "    def __init__(self):\n",
    "        self.data=pd.DataFrame(pd.np.empty((0, 5)))\n",
    "        self.columnas=pd.Index(np.array(['Album','Artist','Country','Chart','Year']))\n",
    "        self.data.columns=self.columnas\n",
    "        self.direction=None\n",
    "    def add_element(self):\n",
    "        Album=input('Name of the album: ')\n",
    "        Artist=input('Name of the artist: ')\n",
    "        Country=input('Name of the country: ')\n",
    "        Chart=input('Name of the chart: ')\n",
    "        Year=input('Year: ')\n",
    "        atributes=[Album,Artist,Country,Chart,Year]\n",
    "        new_element=dict(zip(self.columnas,atributes))\n",
    "        self.data=self.data.append(new_element,ignore_index=True)\n",
    "    def pop_element(self):\n",
    "        Album=input('Name of the album to drop: ')\n",
    "        Artist=input('Name of the artist: ')\n",
    "        self.data=self.data[(self.data.Album != Album) | (self.data.Artist != Artist)]\n",
    "    def import_data(self):\n",
    "        direction=input(\"Where's the data: \")\n",
    "        self.data=pd.DataFrame.from_csv(direction)\n",
    "    def save_data(self):\n",
    "        if self.direction==None:\n",
    "            direction=input('Where to save with name (no extention): ')\n",
    "            self.direction=direction\n",
    "        self.data.to_csv(direction+'.csv')"
   ]
  }
 ],
 "metadata": {
  "kernelspec": {
   "display_name": "Python 3",
   "language": "python",
   "name": "python3"
  },
  "language_info": {
   "codemirror_mode": {
    "name": "ipython",
    "version": 3
   },
   "file_extension": ".py",
   "mimetype": "text/x-python",
   "name": "python",
   "nbconvert_exporter": "python",
   "pygments_lexer": "ipython3",
   "version": "3.6.5"
  },
  "toc": {
   "base_numbering": 1,
   "nav_menu": {},
   "number_sections": true,
   "sideBar": true,
   "skip_h1_title": false,
   "title_cell": "Table of Contents",
   "title_sidebar": "Contents",
   "toc_cell": false,
   "toc_position": {},
   "toc_section_display": true,
   "toc_window_display": false
  }
 },
 "nbformat": 4,
 "nbformat_minor": 2
}
